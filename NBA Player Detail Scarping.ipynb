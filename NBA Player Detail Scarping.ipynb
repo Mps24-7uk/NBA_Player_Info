{
 "cells": [
  {
   "cell_type": "code",
   "execution_count": 170,
   "metadata": {
    "collapsed": true
   },
   "outputs": [],
   "source": [
    "from selenium import webdriver\n",
    "from bs4 import BeautifulSoup\n",
    "import pandas as pd"
   ]
  },
  {
   "cell_type": "code",
   "execution_count": 186,
   "metadata": {
    "collapsed": true
   },
   "outputs": [],
   "source": [
    "class player():\n",
    "    def __init__(self):\n",
    "        self.name=\"\"\n",
    "        self.link=\"\"\n",
    "        self.Height=\"\"\n",
    "        self.Weight=\"\"\n",
    "        self.Born=\"\"\n",
    "        self.Image=\"\"\n",
    "        \n",
    "def get_player_list():\n",
    "    \n",
    "    driver = webdriver.Chrome(executable_path='C:\\chromedriver_win32\\chromedriver.exe')\n",
    "    driver.get(\"http://www.nba.com/players\")\n",
    "    \n",
    "    soup5=BeautifulSoup(driver.page_source,'lxml')    \n",
    "    div=soup5.find('div',class_=\"small-12 columns\")\n",
    "    player_list=[]\n",
    "    for a in div.find_all('a'):\n",
    "        #print(a.text)\n",
    "        #print(a['href'])\n",
    "        new_player=player()\n",
    "        new_player.name=(a.text).split('#')[0]\n",
    "        new_player.link=\"http://www.nba.com/\"+a['href']\n",
    "        player_list.append(new_player)\n",
    "   #check the output for Link and Name\n",
    "    #for one_player in player_list:\n",
    "     #   print(one_player.name)\n",
    "      #  print(one_player.link)\n",
    "    \n",
    "    driver.quit()  \n",
    "    return player_list"
   ]
  },
  {
   "cell_type": "code",
   "execution_count": 187,
   "metadata": {
    "collapsed": true
   },
   "outputs": [],
   "source": [
    "plyer_list=get_player_list()"
   ]
  },
  {
   "cell_type": "code",
   "execution_count": 223,
   "metadata": {},
   "outputs": [
    {
     "name": "stdout",
     "output_type": "stream",
     "text": [
      "http://www.nba.com//players/alex/abrines/203518\n",
      "http://www.nba.com//players/quincy/acy/203112\n",
      "http://www.nba.com//players/steven/adams/203500\n",
      "http://www.nba.com//players/bam/adebayo/1628389\n",
      "http://www.nba.com//players/arron/afflalo/201167\n"
     ]
    }
   ],
   "source": [
    "for one_player in plyer_list[0:5]:\n",
    "    print(one_player.link)"
   ]
  },
  {
   "cell_type": "code",
   "execution_count": 194,
   "metadata": {
    "collapsed": true
   },
   "outputs": [],
   "source": [
    "def get_detail_all_player(player_list):\n",
    "    driver1 = webdriver.Chrome(executable_path='C:\\chromedriver_win32\\chromedriver.exe')   \n",
    "    for p in player_list[0:5]: # This will display Details of first five \n",
    "        \n",
    "        \n",
    "        driver1.get(p.link) \n",
    "\n",
    "        soup4=BeautifulSoup(driver1.page_source,'lxml')    \n",
    "        para=soup4.find_all('p',class_=\"nba-player-vitals__top-info-imperial\")\n",
    "\n",
    "        Height=' '.join([span_height.text for span_height in para[0].find_all('span')])\n",
    "\n",
    "        for span_weight in para[1].find_all('span'):\n",
    "            Weight=span_weight.text\n",
    "\n",
    "        span_born=soup4.find('span',string=\"BORN\")\n",
    "        for span_borntext in span_born.fetchNextSiblings():\n",
    "            Born=span_borntext.text.lstrip()    \n",
    "            \n",
    "        soup3=BeautifulSoup(driver1.page_source,'lxml')    \n",
    "        section=soup3.find('section',class_=\"nba-player-header__item nba-player-header__headshot\")\n",
    "        image=section.find('img')\n",
    "              \n",
    "        p.Height=Height\n",
    "        p.Weight=Weight\n",
    "        p.Born=Born\n",
    "        p.Image=image['src']\n",
    "        \n",
    "    driver1.quit()\n",
    "    \n",
    "    return player_list"
   ]
  },
  {
   "cell_type": "code",
   "execution_count": 195,
   "metadata": {
    "collapsed": true
   },
   "outputs": [],
   "source": [
    "player_info=get_detail_all_player(plyer_list)"
   ]
  },
  {
   "cell_type": "code",
   "execution_count": 199,
   "metadata": {},
   "outputs": [
    {
     "name": "stdout",
     "output_type": "stream",
     "text": [
      "http://www.nba.com//players/alex/abrines/203518\n",
      "Abrines, Alex\n",
      "6 ft 6 in\n",
      "190 lbs\n",
      "http://ak-static.cms.nba.com/wp-content/uploads/headshots/nba/latest/260x190/203518.png\n",
      "08/01/1993\n",
      "              \n",
      "http://www.nba.com//players/quincy/acy/203112\n",
      "Acy, Quincy\n",
      "6 ft 7 in\n",
      "240 lbs\n",
      "http://ak-static.cms.nba.com/wp-content/uploads/headshots/nba/latest/260x190/203112.png\n",
      "10/06/1990\n",
      "              \n",
      "http://www.nba.com//players/steven/adams/203500\n",
      "Adams, Steven\n",
      "7 ft 0 in\n",
      "255 lbs\n",
      "http://ak-static.cms.nba.com/wp-content/uploads/headshots/nba/latest/260x190/203500.png\n",
      "07/20/1993\n",
      "              \n",
      "http://www.nba.com//players/bam/adebayo/1628389\n",
      "Adebayo, Bam\n",
      "6 ft 10 in\n",
      "255 lbs\n",
      "http://ak-static.cms.nba.com/wp-content/uploads/headshots/nba/latest/260x190/1628389.png\n",
      "07/18/1997\n",
      "              \n",
      "http://www.nba.com//players/arron/afflalo/201167\n",
      "Afflalo, Arron\n",
      "6 ft 5 in\n",
      "210 lbs\n",
      "http://ak-static.cms.nba.com/wp-content/uploads/headshots/nba/latest/260x190/201167.png\n",
      "10/15/1985\n",
      "              \n"
     ]
    }
   ],
   "source": [
    "for one_player in plyer_list[0:5]:\n",
    "    print(one_player.link)\n",
    "    print(one_player.name)\n",
    "    print(one_player.Height)\n",
    "    print(one_player.Weight)\n",
    "    print(one_player.Image)\n",
    "    print(one_player.Born)\n",
    "    \n",
    "    "
   ]
  },
  {
   "cell_type": "code",
   "execution_count": 198,
   "metadata": {
    "collapsed": true
   },
   "outputs": [],
   "source": [
    "file=open('NBA_Player.csv','w+')\n",
    "for one_player in plyer_list[0:6]:\n",
    "    file.write(str(one_player.name)+\" \"+str(one_player.Born))\n",
    "    \n",
    "file.close()   "
   ]
  },
  {
   "cell_type": "code",
   "execution_count": 213,
   "metadata": {
    "collapsed": true
   },
   "outputs": [],
   "source": [
    "Details=pd.DataFrame(columns=['Name','DOB','Height','Weight','Link','Image'])"
   ]
  },
  {
   "cell_type": "code",
   "execution_count": 215,
   "metadata": {
    "collapsed": true
   },
   "outputs": [],
   "source": [
    "for one_player in plyer_list[0:5]:\n",
    "    Details = Details.append(pd.Series([one_player.name,one_player.Born,one_player.Height,one_player.Weight,one_player.link,one_player.Image], index=['Name','DOB','Height','Weight','Link','Image']), ignore_index=True)"
   ]
  },
  {
   "cell_type": "code",
   "execution_count": 218,
   "metadata": {},
   "outputs": [
    {
     "data": {
      "text/html": [
       "<div>\n",
       "<style>\n",
       "    .dataframe thead tr:only-child th {\n",
       "        text-align: right;\n",
       "    }\n",
       "\n",
       "    .dataframe thead th {\n",
       "        text-align: left;\n",
       "    }\n",
       "\n",
       "    .dataframe tbody tr th {\n",
       "        vertical-align: top;\n",
       "    }\n",
       "</style>\n",
       "<table border=\"1\" class=\"dataframe\">\n",
       "  <thead>\n",
       "    <tr style=\"text-align: right;\">\n",
       "      <th></th>\n",
       "      <th>Name</th>\n",
       "      <th>DOB</th>\n",
       "      <th>Height</th>\n",
       "      <th>Weight</th>\n",
       "      <th>Link</th>\n",
       "      <th>Image</th>\n",
       "    </tr>\n",
       "  </thead>\n",
       "  <tbody>\n",
       "    <tr>\n",
       "      <th>0</th>\n",
       "      <td>Abrines, Alex</td>\n",
       "      <td>08/01/1993\\n</td>\n",
       "      <td>6 ft 6 in</td>\n",
       "      <td>190 lbs</td>\n",
       "      <td>http://www.nba.com//players/alex/abrines/203518</td>\n",
       "      <td>http://ak-static.cms.nba.com/wp-content/upload...</td>\n",
       "    </tr>\n",
       "    <tr>\n",
       "      <th>1</th>\n",
       "      <td>Acy, Quincy</td>\n",
       "      <td>10/06/1990\\n</td>\n",
       "      <td>6 ft 7 in</td>\n",
       "      <td>240 lbs</td>\n",
       "      <td>http://www.nba.com//players/quincy/acy/203112</td>\n",
       "      <td>http://ak-static.cms.nba.com/wp-content/upload...</td>\n",
       "    </tr>\n",
       "    <tr>\n",
       "      <th>2</th>\n",
       "      <td>Adams, Steven</td>\n",
       "      <td>07/20/1993\\n</td>\n",
       "      <td>7 ft 0 in</td>\n",
       "      <td>255 lbs</td>\n",
       "      <td>http://www.nba.com//players/steven/adams/203500</td>\n",
       "      <td>http://ak-static.cms.nba.com/wp-content/upload...</td>\n",
       "    </tr>\n",
       "    <tr>\n",
       "      <th>3</th>\n",
       "      <td>Adebayo, Bam</td>\n",
       "      <td>07/18/1997\\n</td>\n",
       "      <td>6 ft 10 in</td>\n",
       "      <td>255 lbs</td>\n",
       "      <td>http://www.nba.com//players/bam/adebayo/1628389</td>\n",
       "      <td>http://ak-static.cms.nba.com/wp-content/upload...</td>\n",
       "    </tr>\n",
       "    <tr>\n",
       "      <th>4</th>\n",
       "      <td>Afflalo, Arron</td>\n",
       "      <td>10/15/1985\\n</td>\n",
       "      <td>6 ft 5 in</td>\n",
       "      <td>210 lbs</td>\n",
       "      <td>http://www.nba.com//players/arron/afflalo/201167</td>\n",
       "      <td>http://ak-static.cms.nba.com/wp-content/upload...</td>\n",
       "    </tr>\n",
       "  </tbody>\n",
       "</table>\n",
       "</div>"
      ],
      "text/plain": [
       "             Name                         DOB      Height   Weight  \\\n",
       "0   Abrines, Alex  08/01/1993\\n                 6 ft 6 in  190 lbs   \n",
       "1     Acy, Quincy  10/06/1990\\n                 6 ft 7 in  240 lbs   \n",
       "2   Adams, Steven  07/20/1993\\n                 7 ft 0 in  255 lbs   \n",
       "3    Adebayo, Bam  07/18/1997\\n                6 ft 10 in  255 lbs   \n",
       "4  Afflalo, Arron  10/15/1985\\n                 6 ft 5 in  210 lbs   \n",
       "\n",
       "                                               Link  \\\n",
       "0   http://www.nba.com//players/alex/abrines/203518   \n",
       "1     http://www.nba.com//players/quincy/acy/203112   \n",
       "2   http://www.nba.com//players/steven/adams/203500   \n",
       "3   http://www.nba.com//players/bam/adebayo/1628389   \n",
       "4  http://www.nba.com//players/arron/afflalo/201167   \n",
       "\n",
       "                                               Image  \n",
       "0  http://ak-static.cms.nba.com/wp-content/upload...  \n",
       "1  http://ak-static.cms.nba.com/wp-content/upload...  \n",
       "2  http://ak-static.cms.nba.com/wp-content/upload...  \n",
       "3  http://ak-static.cms.nba.com/wp-content/upload...  \n",
       "4  http://ak-static.cms.nba.com/wp-content/upload...  "
      ]
     },
     "execution_count": 218,
     "metadata": {},
     "output_type": "execute_result"
    }
   ],
   "source": [
    "Details"
   ]
  },
  {
   "cell_type": "code",
   "execution_count": 222,
   "metadata": {
    "collapsed": true
   },
   "outputs": [],
   "source": [
    "Details.to_csv(\"current_player.csv\", index=False)\n"
   ]
  }
 ],
 "metadata": {
  "kernelspec": {
   "display_name": "Python 3",
   "language": "python",
   "name": "python3"
  },
  "language_info": {
   "codemirror_mode": {
    "name": "ipython",
    "version": 3
   },
   "file_extension": ".py",
   "mimetype": "text/x-python",
   "name": "python",
   "nbconvert_exporter": "python",
   "pygments_lexer": "ipython3",
   "version": "3.6.2"
  }
 },
 "nbformat": 4,
 "nbformat_minor": 2
}
